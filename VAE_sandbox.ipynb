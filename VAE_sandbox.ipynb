{
 "cells": [
  {
   "cell_type": "markdown",
   "metadata": {},
   "source": [
    "# MNIST VAE implementation in Tensorflow"
   ]
  },
  {
   "cell_type": "code",
   "execution_count": 1,
   "metadata": {},
   "outputs": [
    {
     "name": "stderr",
     "output_type": "stream",
     "text": [
      "/Users/sergeassaad/anaconda3/envs/tensorflow/lib/python3.6/importlib/_bootstrap.py:219: RuntimeWarning: numpy.dtype size changed, may indicate binary incompatibility. Expected 96, got 88\n",
      "  return f(*args, **kwds)\n",
      "/Users/sergeassaad/anaconda3/envs/tensorflow/lib/python3.6/importlib/_bootstrap.py:219: RuntimeWarning: numpy.dtype size changed, may indicate binary incompatibility. Expected 96, got 88\n",
      "  return f(*args, **kwds)\n",
      "/Users/sergeassaad/anaconda3/envs/tensorflow/lib/python3.6/importlib/_bootstrap.py:219: RuntimeWarning: numpy.dtype size changed, may indicate binary incompatibility. Expected 96, got 88\n",
      "  return f(*args, **kwds)\n"
     ]
    }
   ],
   "source": [
    "from tensorflow.examples.tutorials.mnist import input_data\n",
    "import numpy as np\n",
    "import matplotlib.pyplot as plt\n",
    "import tensorflow as tf\n",
    "from tqdm import tqdm,trange\n",
    "\n",
    "tf.reset_default_graph()"
   ]
  },
  {
   "cell_type": "code",
   "execution_count": 2,
   "metadata": {},
   "outputs": [],
   "source": [
    "# Hyperparameters\n",
    "z_dim = 10 #latent variable dimensions\n",
    "\n",
    "# Encoder layer sizes and activations\n",
    "hidden_dims_enc = [100,100] #encoder & decoder dimensions\n",
    "all_dims_enc = [784] + hidden_dims_enc + [2*z_dim]\n",
    "enc_layers = len(all_dims_enc)\n",
    "activations_enc = [tf.nn.relu,tf.nn.relu,tf.identity]\n",
    "\n",
    "# Decoder layer sizes and activations\n",
    "hidden_dims_dec = [100,100]\n",
    "all_dims_dec = [z_dim] + hidden_dims_dec + [784]\n",
    "dec_layers = len(all_dims_dec)\n",
    "activations_dec = [tf.nn.relu,tf.nn.relu,tf.nn.sigmoid]"
   ]
  },
  {
   "cell_type": "code",
   "execution_count": 3,
   "metadata": {},
   "outputs": [],
   "source": [
    "X_img = tf.placeholder(tf.float32, [None,28,28])\n",
    "X = tf.reshape(X_img,[-1,784])/255 #map pixel values between 0-1\n",
    "\n",
    "# Encoder layers\n",
    "W_enc = [None]*(enc_layers-1)\n",
    "b_enc = [None]*(enc_layers-1)\n",
    "h_enc = [None]*enc_layers\n",
    "h_enc[0] = X\n",
    "\n",
    "for i in range(enc_layers-1):\n",
    "    W_enc[i] = tf.Variable(tf.truncated_normal([all_dims_enc[i], all_dims_enc[i+1]], stddev=0.1))\n",
    "    b_enc[i] = tf.Variable(tf.zeros([all_dims_enc[i+1]]))\n",
    "    h_enc[i+1] = activations_enc[i](tf.matmul(h_enc[i], W_enc[i]) + b_enc[i])"
   ]
  },
  {
   "cell_type": "code",
   "execution_count": 4,
   "metadata": {},
   "outputs": [],
   "source": [
    "# Sampling latent vectors z\n",
    "gaussian_params = h_enc[-1]\n",
    "mu = gaussian_params[:, :z_dim]\n",
    "sigma = tf.exp(gaussian_params[:,z_dim:])\n",
    "z = mu + sigma * tf.random_normal(tf.shape(mu), 0, 1, dtype=tf.float32)"
   ]
  },
  {
   "cell_type": "code",
   "execution_count": 5,
   "metadata": {},
   "outputs": [],
   "source": [
    "# Decoder layers\n",
    "W_dec = [None]*(dec_layers-1)\n",
    "b_dec = [None]*(dec_layers-1)\n",
    "h_dec = [None]*dec_layers\n",
    "h_dec[0] = z\n",
    "\n",
    "for i in range(dec_layers-1):\n",
    "    W_dec[i] = tf.Variable(tf.truncated_normal([all_dims_dec[i], all_dims_dec[i+1]], stddev=0.1))\n",
    "    b_dec[i] = tf.Variable(tf.zeros([all_dims_dec[i+1]]))\n",
    "    h_dec[i+1] = activations_dec[i](tf.matmul(h_dec[i], W_dec[i]) + b_dec[i])"
   ]
  },
  {
   "cell_type": "code",
   "execution_count": 6,
   "metadata": {},
   "outputs": [],
   "source": [
    "# Reconstructed image\n",
    "X_rec = h_dec[-1]\n",
    "\n",
    "# Log Likelihood p(x|z) ~ Bernoulli (for MNIST)\n",
    "likelihood_ = tf.reduce_sum(X* tf.log(X_rec+1e-8) + (1 - X) * tf.log(1 - X_rec+1e-8), 1)\n",
    "\n",
    "# KL divergence between q(z|x) ~ Normal and p(z)~ N(0,I)\n",
    "KL_ = 0.5 * tf.reduce_sum(tf.square(mu) + tf.square(sigma) - tf.log(1e-8+tf.square(sigma)) - z_dim, 1)\n",
    "\n",
    "likelihood = tf.reduce_mean(likelihood_)\n",
    "KL = tf.reduce_mean(KL_)\n",
    "\n",
    "# Loss & optimizer\n",
    "loss = KL - likelihood\n",
    "opt = tf.train.AdamOptimizer()\n",
    "train_step = opt.minimize(loss)"
   ]
  },
  {
   "cell_type": "code",
   "execution_count": 7,
   "metadata": {},
   "outputs": [],
   "source": [
    "# Load MNIST data\n",
    "mnist_train,_ = tf.keras.datasets.mnist.load_data(path='mnist.npz')\n",
    "x_train,_ = mnist_train\n",
    "\n",
    "# Training parameters\n",
    "num_epochs = 30\n",
    "batch_size = 500\n",
    "N_train = len(x_train)"
   ]
  },
  {
   "cell_type": "code",
   "execution_count": 8,
   "metadata": {
    "scrolled": true
   },
   "outputs": [
    {
     "name": "stderr",
     "output_type": "stream",
     "text": [
      "\r",
      "  0%|          | 0/120 [00:00<?, ?it/s]"
     ]
    },
    {
     "name": "stdout",
     "output_type": "stream",
     "text": [
      "Epoch 0!\n",
      "inf\n"
     ]
    },
    {
     "name": "stderr",
     "output_type": "stream",
     "text": [
      "100%|██████████| 120/120 [00:02<00:00, 41.37it/s]\n",
      "  3%|▎         | 4/120 [00:00<00:03, 36.62it/s]"
     ]
    },
    {
     "name": "stdout",
     "output_type": "stream",
     "text": [
      "Epoch 1!\n",
      "151.27917\n"
     ]
    },
    {
     "name": "stderr",
     "output_type": "stream",
     "text": [
      "100%|██████████| 120/120 [00:02<00:00, 44.32it/s]\n",
      "  3%|▎         | 4/120 [00:00<00:03, 36.55it/s]"
     ]
    },
    {
     "name": "stdout",
     "output_type": "stream",
     "text": [
      "Epoch 2!\n",
      "118.874084\n"
     ]
    },
    {
     "name": "stderr",
     "output_type": "stream",
     "text": [
      "100%|██████████| 120/120 [00:03<00:00, 38.38it/s]\n",
      "  2%|▎         | 3/120 [00:00<00:06, 19.02it/s]"
     ]
    },
    {
     "name": "stdout",
     "output_type": "stream",
     "text": [
      "Epoch 3!\n",
      "96.105896\n"
     ]
    },
    {
     "name": "stderr",
     "output_type": "stream",
     "text": [
      "100%|██████████| 120/120 [00:02<00:00, 42.06it/s]\n",
      "  4%|▍         | 5/120 [00:00<00:02, 45.23it/s]"
     ]
    },
    {
     "name": "stdout",
     "output_type": "stream",
     "text": [
      "Epoch 4!\n",
      "86.07979\n"
     ]
    },
    {
     "name": "stderr",
     "output_type": "stream",
     "text": [
      "100%|██████████| 120/120 [00:02<00:00, 48.30it/s]\n",
      "  4%|▍         | 5/120 [00:00<00:02, 46.59it/s]"
     ]
    },
    {
     "name": "stdout",
     "output_type": "stream",
     "text": [
      "Epoch 5!\n",
      "78.59205\n"
     ]
    },
    {
     "name": "stderr",
     "output_type": "stream",
     "text": [
      "100%|██████████| 120/120 [00:02<00:00, 48.97it/s]\n",
      "  4%|▍         | 5/120 [00:00<00:02, 45.49it/s]"
     ]
    },
    {
     "name": "stdout",
     "output_type": "stream",
     "text": [
      "Epoch 6!\n",
      "73.47883\n"
     ]
    },
    {
     "name": "stderr",
     "output_type": "stream",
     "text": [
      "100%|██████████| 120/120 [00:03<00:00, 39.15it/s]\n",
      "  4%|▍         | 5/120 [00:00<00:02, 45.18it/s]"
     ]
    },
    {
     "name": "stdout",
     "output_type": "stream",
     "text": [
      "Epoch 7!\n",
      "69.25604\n"
     ]
    },
    {
     "name": "stderr",
     "output_type": "stream",
     "text": [
      "100%|██████████| 120/120 [00:02<00:00, 45.12it/s]\n",
      "  4%|▍         | 5/120 [00:00<00:02, 46.47it/s]"
     ]
    },
    {
     "name": "stdout",
     "output_type": "stream",
     "text": [
      "Epoch 8!\n",
      "65.67654\n"
     ]
    },
    {
     "name": "stderr",
     "output_type": "stream",
     "text": [
      "100%|██████████| 120/120 [00:02<00:00, 44.56it/s]\n",
      "  4%|▍         | 5/120 [00:00<00:02, 42.45it/s]"
     ]
    },
    {
     "name": "stdout",
     "output_type": "stream",
     "text": [
      "Epoch 9!\n",
      "62.78823\n"
     ]
    },
    {
     "name": "stderr",
     "output_type": "stream",
     "text": [
      "100%|██████████| 120/120 [00:02<00:00, 43.41it/s]\n",
      "  3%|▎         | 4/120 [00:00<00:03, 32.60it/s]"
     ]
    },
    {
     "name": "stdout",
     "output_type": "stream",
     "text": [
      "Epoch 10!\n",
      "60.268387\n"
     ]
    },
    {
     "name": "stderr",
     "output_type": "stream",
     "text": [
      "100%|██████████| 120/120 [00:02<00:00, 42.62it/s]\n",
      "  3%|▎         | 4/120 [00:00<00:02, 39.56it/s]"
     ]
    },
    {
     "name": "stdout",
     "output_type": "stream",
     "text": [
      "Epoch 11!\n",
      "58.208305\n"
     ]
    },
    {
     "name": "stderr",
     "output_type": "stream",
     "text": [
      "100%|██████████| 120/120 [00:04<00:00, 29.90it/s]\n",
      "  2%|▏         | 2/120 [00:00<00:07, 15.94it/s]"
     ]
    },
    {
     "name": "stdout",
     "output_type": "stream",
     "text": [
      "Epoch 12!\n",
      "56.41276\n"
     ]
    },
    {
     "name": "stderr",
     "output_type": "stream",
     "text": [
      "100%|██████████| 120/120 [00:04<00:00, 29.39it/s]\n",
      "  4%|▍         | 5/120 [00:00<00:02, 45.25it/s]"
     ]
    },
    {
     "name": "stdout",
     "output_type": "stream",
     "text": [
      "Epoch 13!\n",
      "54.563896\n"
     ]
    },
    {
     "name": "stderr",
     "output_type": "stream",
     "text": [
      "100%|██████████| 120/120 [00:03<00:00, 37.63it/s]\n",
      "  3%|▎         | 4/120 [00:00<00:03, 33.67it/s]"
     ]
    },
    {
     "name": "stdout",
     "output_type": "stream",
     "text": [
      "Epoch 14!\n",
      "53.234737\n"
     ]
    },
    {
     "name": "stderr",
     "output_type": "stream",
     "text": [
      "100%|██████████| 120/120 [00:02<00:00, 42.96it/s]\n",
      "  4%|▍         | 5/120 [00:00<00:02, 44.00it/s]"
     ]
    },
    {
     "name": "stdout",
     "output_type": "stream",
     "text": [
      "Epoch 15!\n",
      "52.058556\n"
     ]
    },
    {
     "name": "stderr",
     "output_type": "stream",
     "text": [
      "100%|██████████| 120/120 [00:03<00:00, 35.63it/s]\n",
      "  4%|▍         | 5/120 [00:00<00:02, 47.77it/s]"
     ]
    },
    {
     "name": "stdout",
     "output_type": "stream",
     "text": [
      "Epoch 16!\n",
      "50.75544\n"
     ]
    },
    {
     "name": "stderr",
     "output_type": "stream",
     "text": [
      "100%|██████████| 120/120 [00:04<00:00, 28.77it/s]\n",
      "  2%|▏         | 2/120 [00:00<00:06, 17.67it/s]"
     ]
    },
    {
     "name": "stdout",
     "output_type": "stream",
     "text": [
      "Epoch 17!\n",
      "49.838013\n"
     ]
    },
    {
     "name": "stderr",
     "output_type": "stream",
     "text": [
      "100%|██████████| 120/120 [00:03<00:00, 31.94it/s]\n",
      "  4%|▍         | 5/120 [00:00<00:02, 49.47it/s]"
     ]
    },
    {
     "name": "stdout",
     "output_type": "stream",
     "text": [
      "Epoch 18!\n",
      "48.730698\n"
     ]
    },
    {
     "name": "stderr",
     "output_type": "stream",
     "text": [
      "100%|██████████| 120/120 [00:02<00:00, 47.63it/s]\n",
      "  4%|▍         | 5/120 [00:00<00:02, 49.48it/s]"
     ]
    },
    {
     "name": "stdout",
     "output_type": "stream",
     "text": [
      "Epoch 19!\n",
      "47.77254\n"
     ]
    },
    {
     "name": "stderr",
     "output_type": "stream",
     "text": [
      "100%|██████████| 120/120 [00:03<00:00, 35.70it/s]\n",
      "  4%|▍         | 5/120 [00:00<00:02, 43.35it/s]"
     ]
    },
    {
     "name": "stdout",
     "output_type": "stream",
     "text": [
      "Epoch 20!\n",
      "46.99753\n"
     ]
    },
    {
     "name": "stderr",
     "output_type": "stream",
     "text": [
      "100%|██████████| 120/120 [00:03<00:00, 39.51it/s]\n",
      "  4%|▍         | 5/120 [00:00<00:02, 46.42it/s]"
     ]
    },
    {
     "name": "stdout",
     "output_type": "stream",
     "text": [
      "Epoch 21!\n",
      "46.187027\n"
     ]
    },
    {
     "name": "stderr",
     "output_type": "stream",
     "text": [
      "100%|██████████| 120/120 [00:03<00:00, 37.49it/s]\n",
      "  3%|▎         | 4/120 [00:00<00:03, 35.71it/s]"
     ]
    },
    {
     "name": "stdout",
     "output_type": "stream",
     "text": [
      "Epoch 22!\n",
      "45.48046\n"
     ]
    },
    {
     "name": "stderr",
     "output_type": "stream",
     "text": [
      "100%|██████████| 120/120 [00:02<00:00, 43.95it/s]\n",
      "  3%|▎         | 4/120 [00:00<00:03, 37.51it/s]"
     ]
    },
    {
     "name": "stdout",
     "output_type": "stream",
     "text": [
      "Epoch 23!\n",
      "44.807716\n"
     ]
    },
    {
     "name": "stderr",
     "output_type": "stream",
     "text": [
      "100%|██████████| 120/120 [00:02<00:00, 45.13it/s]\n",
      "  4%|▍         | 5/120 [00:00<00:02, 45.46it/s]"
     ]
    },
    {
     "name": "stdout",
     "output_type": "stream",
     "text": [
      "Epoch 24!\n",
      "44.292694\n"
     ]
    },
    {
     "name": "stderr",
     "output_type": "stream",
     "text": [
      "100%|██████████| 120/120 [00:02<00:00, 48.63it/s]\n",
      "  4%|▍         | 5/120 [00:00<00:02, 47.58it/s]"
     ]
    },
    {
     "name": "stdout",
     "output_type": "stream",
     "text": [
      "Epoch 25!\n",
      "43.573074\n"
     ]
    },
    {
     "name": "stderr",
     "output_type": "stream",
     "text": [
      "100%|██████████| 120/120 [00:02<00:00, 49.64it/s]\n",
      "  4%|▍         | 5/120 [00:00<00:02, 48.43it/s]"
     ]
    },
    {
     "name": "stdout",
     "output_type": "stream",
     "text": [
      "Epoch 26!\n",
      "43.183327\n"
     ]
    },
    {
     "name": "stderr",
     "output_type": "stream",
     "text": [
      "100%|██████████| 120/120 [00:02<00:00, 47.93it/s]\n",
      "  4%|▍         | 5/120 [00:00<00:02, 42.49it/s]"
     ]
    },
    {
     "name": "stdout",
     "output_type": "stream",
     "text": [
      "Epoch 27!\n",
      "42.581356\n"
     ]
    },
    {
     "name": "stderr",
     "output_type": "stream",
     "text": [
      "100%|██████████| 120/120 [00:02<00:00, 49.01it/s]\n",
      "  4%|▍         | 5/120 [00:00<00:02, 43.53it/s]"
     ]
    },
    {
     "name": "stdout",
     "output_type": "stream",
     "text": [
      "Epoch 28!\n",
      "42.238777\n"
     ]
    },
    {
     "name": "stderr",
     "output_type": "stream",
     "text": [
      "100%|██████████| 120/120 [00:02<00:00, 48.54it/s]\n",
      "  4%|▍         | 5/120 [00:00<00:02, 46.33it/s]"
     ]
    },
    {
     "name": "stdout",
     "output_type": "stream",
     "text": [
      "Epoch 29!\n",
      "41.869804\n"
     ]
    },
    {
     "name": "stderr",
     "output_type": "stream",
     "text": [
      "100%|██████████| 120/120 [00:02<00:00, 49.14it/s]\n"
     ]
    }
   ],
   "source": [
    "# Training\n",
    "with tf.Session() as sess:\n",
    "    min_loss = float('inf')\n",
    "    sess.run(tf.global_variables_initializer())\n",
    "    for epoch in range(num_epochs):\n",
    "        print(\"Epoch {}!\".format(epoch))\n",
    "        print(min_loss)\n",
    "        for i in trange(N_train//batch_size):\n",
    "            x_batch = x_train[i:i+batch_size]\n",
    "            loss_batch,_ = sess.run([loss,train_step],feed_dict={X_img:x_batch})\n",
    "            if(loss_batch<min_loss):\n",
    "                samples = sess.run(X_rec,feed_dict={z:np.random.normal(0,1,size=(100,z_dim))})\n",
    "                min_loss = loss_batch"
   ]
  },
  {
   "cell_type": "code",
   "execution_count": 9,
   "metadata": {},
   "outputs": [
    {
     "data": {
      "image/png": "[encoded data removed]",
      "text/plain": [
       "<Figure size 432x288 with 64 Axes>"
      ]
     },
     "metadata": {},
     "output_type": "display_data"
    }
   ],
   "source": [
    "# Generated samples\n",
    "from IPython.display import display\n",
    "imgs = np.reshape(samples,(-1,28,28))\n",
    "\n",
    "for i in range(64):\n",
    "    plt.subplot(8,8,i+1)\n",
    "    plt.imshow(imgs[i])"
   ]
  }
 ],
 "metadata": {
  "kernelspec": {
   "display_name": "Python 3",
   "language": "python",
   "name": "python3"
  },
  "language_info": {
   "codemirror_mode": {
    "name": "ipython",
    "version": 3
   },
   "file_extension": ".py",
   "mimetype": "text/x-python",
   "name": "python",
   "nbconvert_exporter": "python",
   "pygments_lexer": "ipython3",
   "version": "3.6.7"
  }
 },
 "nbformat": 4,
 "nbformat_minor": 2
}
